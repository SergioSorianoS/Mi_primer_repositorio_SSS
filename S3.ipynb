{
  "nbformat": 4,
  "nbformat_minor": 0,
  "metadata": {
    "colab": {
      "provenance": [],
      "authorship_tag": "ABX9TyO3z4IW3v4l5XOZLSSyRMQ8",
      "include_colab_link": true
    },
    "kernelspec": {
      "name": "python3",
      "display_name": "Python 3"
    },
    "language_info": {
      "name": "python"
    }
  },
  "cells": [
    {
      "cell_type": "markdown",
      "metadata": {
        "id": "view-in-github",
        "colab_type": "text"
      },
      "source": [
        "<a href=\"https://colab.research.google.com/github/SergioSorianoS/Mi_primer_repositorio_SSS/blob/Mi_Primera_Rama/S3.ipynb\" target=\"_parent\"><img src=\"https://colab.research.google.com/assets/colab-badge.svg\" alt=\"Open In Colab\"/></a>"
      ]
    },
    {
      "cell_type": "code",
      "execution_count": null,
      "metadata": {
        "colab": {
          "base_uri": "https://localhost:8080/"
        },
        "id": "1K4anmXwPlnG",
        "outputId": "f9b4c84a-4278-43df-a82d-b87971980521"
      },
      "outputs": [
        {
          "output_type": "stream",
          "name": "stdout",
          "text": [
            "Mi primer commit con google colab\n"
          ]
        }
      ],
      "source": [
        "print(\"Mi primer commit con google colab\")"
      ]
    },
    {
      "cell_type": "code",
      "source": [
        "print(\"Mi segundo commit con google colab\")"
      ],
      "metadata": {
        "id": "6DGjcRlvUzzO"
      },
      "execution_count": null,
      "outputs": []
    }
  ]
}